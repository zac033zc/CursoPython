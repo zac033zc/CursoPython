{
 "cells": [
  {
   "cell_type": "markdown",
   "metadata": {},
   "source": [
    "# Ejercicio 1\n",
    "\n",
    "Utilizar operadores aritmeticos"
   ]
  },
  {
   "cell_type": "code",
   "execution_count": 2,
   "metadata": {},
   "outputs": [
    {
     "name": "stdout",
     "output_type": "stream",
     "text": [
      "628949330\n",
      "390577534\n"
     ]
    }
   ],
   "source": [
    "from math import ceil\n",
    "planeta_1 = 149597870\n",
    "planeta_2 = 778547200\n",
    "\n",
    "distancia_km = abs(planeta_1 - planeta_2)\n",
    "print(distancia_km)\n",
    "\n",
    "distancia_mi = ceil(distancia_km * 0.621)\n",
    "print(distancia_mi)"
   ]
  },
  {
   "cell_type": "markdown",
   "metadata": {},
   "source": [
    "# Ejercicio 2\n",
    "\n",
    "Convierte cadenas a numeros y usa valores absolutos"
   ]
  },
  {
   "cell_type": "code",
   "execution_count": 3,
   "metadata": {},
   "outputs": [
    {
     "name": "stdout",
     "output_type": "stream",
     "text": [
      "Bienvenido vamos a ver la distancia entre dos planetas del sistema solar\n",
      "La distancia entre estos dos planetas es de: 628949330 km\n",
      "La distancia entre estos dos planetas es de: 390577534 millas\n"
     ]
    }
   ],
   "source": [
    "print('Bienvenido vamos a ver la distancia entre dos planetas del sistema solar')\n",
    "planeta1 = int (input('Introduzca la distancia del primer planeta'))\n",
    "planeta2 = int (input('Introduzca la distancia del segundo planeta'))\n",
    "\n",
    "distanciakm = abs(planeta1 - planeta2)\n",
    "distanciamillas = ceil(distanciakm * 0.621)\n",
    "\n",
    "print('La distancia entre estos dos planetas es de:', distanciakm,'km')\n",
    "print('La distancia entre estos dos planetas es de:', distanciamillas,'millas')"
   ]
  }
 ],
 "metadata": {
  "kernelspec": {
   "display_name": "Python 3.9.13 64-bit",
   "language": "python",
   "name": "python3"
  },
  "language_info": {
   "codemirror_mode": {
    "name": "ipython",
    "version": 3
   },
   "file_extension": ".py",
   "mimetype": "text/x-python",
   "name": "python",
   "nbconvert_exporter": "python",
   "pygments_lexer": "ipython3",
   "version": "3.9.13"
  },
  "orig_nbformat": 4,
  "vscode": {
   "interpreter": {
    "hash": "8e284ee3255a07ad8bf76694974743c4c81cb57e7c969474d752d949b11d721e"
   }
  }
 },
 "nbformat": 4,
 "nbformat_minor": 2
}
